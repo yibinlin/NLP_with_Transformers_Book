{
 "cells": [
  {
   "cell_type": "code",
   "execution_count": 1,
   "metadata": {},
   "outputs": [
    {
     "name": "stdout",
     "output_type": "stream",
     "text": [
      "tensor([6.2920, 6.5353, 7.0711, 6.2107, 7.3031],\n",
      "       grad_fn=<LinalgVectorNormBackward0>)\n"
     ]
    }
   ],
   "source": [
    "import torch\n",
    "import torch.nn as nn\n",
    "\n",
    "# Define embedding layer\n",
    "vocab_size = 100\n",
    "hidden_size = 50\n",
    "embedding_layer = nn.Embedding(vocab_size, hidden_size)\n",
    "\n",
    "# Get the embeddings for a sample of indices\n",
    "indices = torch.tensor([0, 1, 2, 3, 4])\n",
    "embeddings = embedding_layer(indices)\n",
    "\n",
    "# Calculate the norms of the embeddings\n",
    "norms = torch.norm(embeddings, dim=1)\n",
    "\n",
    "print(embeddings)\n",
    "print(norms)  # Norms of the embedding vectors"
   ]
  }
 ],
 "metadata": {
  "kernelspec": {
   "display_name": "huggingface_test",
   "language": "python",
   "name": "python3"
  },
  "language_info": {
   "codemirror_mode": {
    "name": "ipython",
    "version": 3
   },
   "file_extension": ".py",
   "mimetype": "text/x-python",
   "name": "python",
   "nbconvert_exporter": "python",
   "pygments_lexer": "ipython3",
   "version": "3.10.12"
  }
 },
 "nbformat": 4,
 "nbformat_minor": 2
}
