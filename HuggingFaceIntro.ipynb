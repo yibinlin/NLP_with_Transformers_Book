{
 "cells": [
  {
   "cell_type": "code",
   "execution_count": 2,
   "id": "ee47d03b",
   "metadata": {},
   "outputs": [
    {
     "name": "stdout",
     "output_type": "stream",
     "text": [
      "Requirement already satisfied: transformers in /Users/yibinlin/.pyenv/versions/3.10.12/envs/huggingface_test/lib/python3.10/site-packages (4.30.2)\n",
      "Requirement already satisfied: datasets in /Users/yibinlin/.pyenv/versions/3.10.12/envs/huggingface_test/lib/python3.10/site-packages (2.12.0)\n",
      "Requirement already satisfied: requests in /Users/yibinlin/.pyenv/versions/3.10.12/envs/huggingface_test/lib/python3.10/site-packages (from transformers) (2.31.0)\n",
      "Requirement already satisfied: tokenizers!=0.11.3,<0.14,>=0.11.1 in /Users/yibinlin/.pyenv/versions/3.10.12/envs/huggingface_test/lib/python3.10/site-packages (from transformers) (0.13.3)\n",
      "Requirement already satisfied: huggingface-hub<1.0,>=0.14.1 in /Users/yibinlin/.pyenv/versions/3.10.12/envs/huggingface_test/lib/python3.10/site-packages (from transformers) (0.15.1)\n",
      "Requirement already satisfied: filelock in /Users/yibinlin/.pyenv/versions/3.10.12/envs/huggingface_test/lib/python3.10/site-packages (from transformers) (3.12.2)\n",
      "Requirement already satisfied: safetensors>=0.3.1 in /Users/yibinlin/.pyenv/versions/3.10.12/envs/huggingface_test/lib/python3.10/site-packages (from transformers) (0.3.1)\n",
      "Requirement already satisfied: packaging>=20.0 in /Users/yibinlin/.pyenv/versions/3.10.12/envs/huggingface_test/lib/python3.10/site-packages (from transformers) (23.1)\n",
      "Requirement already satisfied: tqdm>=4.27 in /Users/yibinlin/.pyenv/versions/3.10.12/envs/huggingface_test/lib/python3.10/site-packages (from transformers) (4.65.0)\n",
      "Requirement already satisfied: numpy>=1.17 in /Users/yibinlin/.pyenv/versions/3.10.12/envs/huggingface_test/lib/python3.10/site-packages (from transformers) (1.24.3)\n",
      "Requirement already satisfied: regex!=2019.12.17 in /Users/yibinlin/.pyenv/versions/3.10.12/envs/huggingface_test/lib/python3.10/site-packages (from transformers) (2023.6.3)\n",
      "Requirement already satisfied: pyyaml>=5.1 in /Users/yibinlin/.pyenv/versions/3.10.12/envs/huggingface_test/lib/python3.10/site-packages (from transformers) (6.0)\n",
      "Requirement already satisfied: responses<0.19 in /Users/yibinlin/.pyenv/versions/3.10.12/envs/huggingface_test/lib/python3.10/site-packages (from datasets) (0.18.0)\n",
      "Requirement already satisfied: aiohttp in /Users/yibinlin/.pyenv/versions/3.10.12/envs/huggingface_test/lib/python3.10/site-packages (from datasets) (3.8.4)\n",
      "Requirement already satisfied: dill<0.3.7,>=0.3.0 in /Users/yibinlin/.pyenv/versions/3.10.12/envs/huggingface_test/lib/python3.10/site-packages (from datasets) (0.3.6)\n",
      "Requirement already satisfied: pandas in /Users/yibinlin/.pyenv/versions/3.10.12/envs/huggingface_test/lib/python3.10/site-packages (from datasets) (2.0.2)\n",
      "Requirement already satisfied: multiprocess in /Users/yibinlin/.pyenv/versions/3.10.12/envs/huggingface_test/lib/python3.10/site-packages (from datasets) (0.70.14)\n",
      "Requirement already satisfied: pyarrow>=8.0.0 in /Users/yibinlin/.pyenv/versions/3.10.12/envs/huggingface_test/lib/python3.10/site-packages (from datasets) (12.0.1)\n",
      "Requirement already satisfied: fsspec[http]>=2021.11.1 in /Users/yibinlin/.pyenv/versions/3.10.12/envs/huggingface_test/lib/python3.10/site-packages (from datasets) (2023.6.0)\n",
      "Requirement already satisfied: xxhash in /Users/yibinlin/.pyenv/versions/3.10.12/envs/huggingface_test/lib/python3.10/site-packages (from datasets) (3.2.0)\n",
      "Requirement already satisfied: aiosignal>=1.1.2 in /Users/yibinlin/.pyenv/versions/3.10.12/envs/huggingface_test/lib/python3.10/site-packages (from aiohttp->datasets) (1.3.1)\n",
      "Requirement already satisfied: yarl<2.0,>=1.0 in /Users/yibinlin/.pyenv/versions/3.10.12/envs/huggingface_test/lib/python3.10/site-packages (from aiohttp->datasets) (1.9.2)\n",
      "Requirement already satisfied: multidict<7.0,>=4.5 in /Users/yibinlin/.pyenv/versions/3.10.12/envs/huggingface_test/lib/python3.10/site-packages (from aiohttp->datasets) (6.0.4)\n",
      "Requirement already satisfied: attrs>=17.3.0 in /Users/yibinlin/.pyenv/versions/3.10.12/envs/huggingface_test/lib/python3.10/site-packages (from aiohttp->datasets) (23.1.0)\n",
      "Requirement already satisfied: charset-normalizer<4.0,>=2.0 in /Users/yibinlin/.pyenv/versions/3.10.12/envs/huggingface_test/lib/python3.10/site-packages (from aiohttp->datasets) (3.1.0)\n",
      "Requirement already satisfied: frozenlist>=1.1.1 in /Users/yibinlin/.pyenv/versions/3.10.12/envs/huggingface_test/lib/python3.10/site-packages (from aiohttp->datasets) (1.3.3)\n",
      "Requirement already satisfied: async-timeout<5.0,>=4.0.0a3 in /Users/yibinlin/.pyenv/versions/3.10.12/envs/huggingface_test/lib/python3.10/site-packages (from aiohttp->datasets) (4.0.2)\n",
      "Requirement already satisfied: typing-extensions>=3.7.4.3 in /Users/yibinlin/.pyenv/versions/3.10.12/envs/huggingface_test/lib/python3.10/site-packages (from huggingface-hub<1.0,>=0.14.1->transformers) (4.6.3)\n",
      "Requirement already satisfied: idna<4,>=2.5 in /Users/yibinlin/.pyenv/versions/3.10.12/envs/huggingface_test/lib/python3.10/site-packages (from requests->transformers) (3.4)\n",
      "Requirement already satisfied: urllib3<3,>=1.21.1 in /Users/yibinlin/.pyenv/versions/3.10.12/envs/huggingface_test/lib/python3.10/site-packages (from requests->transformers) (2.0.3)\n",
      "Requirement already satisfied: certifi>=2017.4.17 in /Users/yibinlin/.pyenv/versions/3.10.12/envs/huggingface_test/lib/python3.10/site-packages (from requests->transformers) (2023.5.7)\n",
      "Requirement already satisfied: pytz>=2020.1 in /Users/yibinlin/.pyenv/versions/3.10.12/envs/huggingface_test/lib/python3.10/site-packages (from pandas->datasets) (2023.3)\n",
      "Requirement already satisfied: tzdata>=2022.1 in /Users/yibinlin/.pyenv/versions/3.10.12/envs/huggingface_test/lib/python3.10/site-packages (from pandas->datasets) (2023.3)\n",
      "Requirement already satisfied: python-dateutil>=2.8.2 in /Users/yibinlin/.pyenv/versions/3.10.12/envs/huggingface_test/lib/python3.10/site-packages (from pandas->datasets) (2.8.2)\n",
      "Requirement already satisfied: six>=1.5 in /Users/yibinlin/.pyenv/versions/3.10.12/envs/huggingface_test/lib/python3.10/site-packages (from python-dateutil>=2.8.2->pandas->datasets) (1.16.0)\n",
      "\n",
      "\u001b[1m[\u001b[0m\u001b[34;49mnotice\u001b[0m\u001b[1;39;49m]\u001b[0m\u001b[39;49m A new release of pip is available: \u001b[0m\u001b[31;49m23.0.1\u001b[0m\u001b[39;49m -> \u001b[0m\u001b[32;49m23.1.2\u001b[0m\n",
      "\u001b[1m[\u001b[0m\u001b[34;49mnotice\u001b[0m\u001b[1;39;49m]\u001b[0m\u001b[39;49m To update, run: \u001b[0m\u001b[32;49mpython3.10 -m pip install --upgrade pip\u001b[0m\n"
     ]
    }
   ],
   "source": [
    "!pip install transformers datasets"
   ]
  },
  {
   "cell_type": "code",
   "execution_count": 4,
   "id": "d6efc269",
   "metadata": {},
   "outputs": [
    {
     "name": "stderr",
     "output_type": "stream",
     "text": [
      "No model was supplied, defaulted to distilbert-base-uncased-finetuned-sst-2-english and revision af0f99b (https://huggingface.co/distilbert-base-uncased-finetuned-sst-2-english).\n",
      "Using a pipeline without specifying a model name and revision in production is not recommended.\n"
     ]
    }
   ],
   "source": [
    "from transformers import pipeline\n",
    "\n",
    "classifier = pipeline(\"text-classification\")"
   ]
  },
  {
   "cell_type": "code",
   "execution_count": 6,
   "id": "3181b22e",
   "metadata": {},
   "outputs": [],
   "source": [
    "text = \"\"\"\"In San Francisco, autonomous vehicles (AVs) from Cruise and Waymo are undergoing \"rigorous\" training on local roadways, raising safety concerns among residents. Both companies received approval from the California Public Utilities Commission (CPUC) for their AVs to carry passengers through designated regions of the city. The CPUC appears ready to approve further expansions for the companies, despite complaints from local transportation agencies that the AVs cause traffic congestion and put pedestrians, drivers, and emergency personnel at risk. In a January open letter to the CPUC, the San Francisco Municipal Transportation Agency (SFMTA) reported an increase in 911 calls about AVs driving erratically, blocking lanes, or stopping in the middle of the road. SFMTA's Stephen Chun said, \"In the short term, we need AVs to demonstrate that they can operate on our streets without creating new hazards.\"\"\""
   ]
  },
  {
   "cell_type": "code",
   "execution_count": 7,
   "id": "65d76a56",
   "metadata": {},
   "outputs": [
    {
     "data": {
      "text/html": [
       "<div>\n",
       "<style scoped>\n",
       "    .dataframe tbody tr th:only-of-type {\n",
       "        vertical-align: middle;\n",
       "    }\n",
       "\n",
       "    .dataframe tbody tr th {\n",
       "        vertical-align: top;\n",
       "    }\n",
       "\n",
       "    .dataframe thead th {\n",
       "        text-align: right;\n",
       "    }\n",
       "</style>\n",
       "<table border=\"1\" class=\"dataframe\">\n",
       "  <thead>\n",
       "    <tr style=\"text-align: right;\">\n",
       "      <th></th>\n",
       "      <th>label</th>\n",
       "      <th>score</th>\n",
       "    </tr>\n",
       "  </thead>\n",
       "  <tbody>\n",
       "    <tr>\n",
       "      <th>0</th>\n",
       "      <td>POSITIVE</td>\n",
       "      <td>0.870459</td>\n",
       "    </tr>\n",
       "  </tbody>\n",
       "</table>\n",
       "</div>"
      ],
      "text/plain": [
       "      label     score\n",
       "0  POSITIVE  0.870459"
      ]
     },
     "execution_count": 7,
     "metadata": {},
     "output_type": "execute_result"
    }
   ],
   "source": [
    "import pandas as pd\n",
    "\n",
    "outputs = classifier(text)\n",
    "pd.DataFrame(outputs)"
   ]
  },
  {
   "cell_type": "markdown",
   "id": "affad0d2",
   "metadata": {},
   "source": []
  },
  {
   "cell_type": "code",
   "execution_count": 8,
   "id": "1b92c4fb",
   "metadata": {},
   "outputs": [
    {
     "data": {
      "text/html": [
       "<div>\n",
       "<style scoped>\n",
       "    .dataframe tbody tr th:only-of-type {\n",
       "        vertical-align: middle;\n",
       "    }\n",
       "\n",
       "    .dataframe tbody tr th {\n",
       "        vertical-align: top;\n",
       "    }\n",
       "\n",
       "    .dataframe thead th {\n",
       "        text-align: right;\n",
       "    }\n",
       "</style>\n",
       "<table border=\"1\" class=\"dataframe\">\n",
       "  <thead>\n",
       "    <tr style=\"text-align: right;\">\n",
       "      <th></th>\n",
       "      <th>label</th>\n",
       "      <th>score</th>\n",
       "    </tr>\n",
       "  </thead>\n",
       "  <tbody>\n",
       "    <tr>\n",
       "      <th>0</th>\n",
       "      <td>POSITIVE</td>\n",
       "      <td>0.870459</td>\n",
       "    </tr>\n",
       "  </tbody>\n",
       "</table>\n",
       "</div>"
      ],
      "text/plain": [
       "      label     score\n",
       "0  POSITIVE  0.870459"
      ]
     },
     "execution_count": 8,
     "metadata": {},
     "output_type": "execute_result"
    }
   ],
   "source": [
    "pd.DataFrame(outputs)"
   ]
  },
  {
   "cell_type": "code",
   "execution_count": 9,
   "id": "2318322f",
   "metadata": {},
   "outputs": [
    {
     "name": "stderr",
     "output_type": "stream",
     "text": [
      "No model was supplied, defaulted to dbmdz/bert-large-cased-finetuned-conll03-english and revision f2482bf (https://huggingface.co/dbmdz/bert-large-cased-finetuned-conll03-english).\n",
      "Using a pipeline without specifying a model name and revision in production is not recommended.\n"
     ]
    },
    {
     "data": {
      "application/vnd.jupyter.widget-view+json": {
       "model_id": "101e5fcd9a8b46559387f28839ad734d",
       "version_major": 2,
       "version_minor": 0
      },
      "text/plain": [
       "Downloading (…)lve/main/config.json:   0%|          | 0.00/998 [00:00<?, ?B/s]"
      ]
     },
     "metadata": {},
     "output_type": "display_data"
    },
    {
     "data": {
      "application/vnd.jupyter.widget-view+json": {
       "model_id": "f7fcbee06f054ed6be7d87b07706c8a6",
       "version_major": 2,
       "version_minor": 0
      },
      "text/plain": [
       "Downloading pytorch_model.bin:   0%|          | 0.00/1.33G [00:00<?, ?B/s]"
      ]
     },
     "metadata": {},
     "output_type": "display_data"
    },
    {
     "data": {
      "application/vnd.jupyter.widget-view+json": {
       "model_id": "c66bc53331db4cf4bcacf26763929117",
       "version_major": 2,
       "version_minor": 0
      },
      "text/plain": [
       "Downloading (…)okenizer_config.json:   0%|          | 0.00/60.0 [00:00<?, ?B/s]"
      ]
     },
     "metadata": {},
     "output_type": "display_data"
    },
    {
     "data": {
      "application/vnd.jupyter.widget-view+json": {
       "model_id": "373038dc07214b1f8acb4d2448f80d7e",
       "version_major": 2,
       "version_minor": 0
      },
      "text/plain": [
       "Downloading (…)solve/main/vocab.txt:   0%|          | 0.00/213k [00:00<?, ?B/s]"
      ]
     },
     "metadata": {},
     "output_type": "display_data"
    },
    {
     "data": {
      "text/html": [
       "<div>\n",
       "<style scoped>\n",
       "    .dataframe tbody tr th:only-of-type {\n",
       "        vertical-align: middle;\n",
       "    }\n",
       "\n",
       "    .dataframe tbody tr th {\n",
       "        vertical-align: top;\n",
       "    }\n",
       "\n",
       "    .dataframe thead th {\n",
       "        text-align: right;\n",
       "    }\n",
       "</style>\n",
       "<table border=\"1\" class=\"dataframe\">\n",
       "  <thead>\n",
       "    <tr style=\"text-align: right;\">\n",
       "      <th></th>\n",
       "      <th>entity_group</th>\n",
       "      <th>score</th>\n",
       "      <th>word</th>\n",
       "      <th>start</th>\n",
       "      <th>end</th>\n",
       "    </tr>\n",
       "  </thead>\n",
       "  <tbody>\n",
       "    <tr>\n",
       "      <th>0</th>\n",
       "      <td>LOC</td>\n",
       "      <td>0.999465</td>\n",
       "      <td>San Francisco</td>\n",
       "      <td>4</td>\n",
       "      <td>17</td>\n",
       "    </tr>\n",
       "    <tr>\n",
       "      <th>1</th>\n",
       "      <td>ORG</td>\n",
       "      <td>0.997806</td>\n",
       "      <td>Cruise</td>\n",
       "      <td>50</td>\n",
       "      <td>56</td>\n",
       "    </tr>\n",
       "    <tr>\n",
       "      <th>2</th>\n",
       "      <td>ORG</td>\n",
       "      <td>0.996125</td>\n",
       "      <td>Waymo</td>\n",
       "      <td>61</td>\n",
       "      <td>66</td>\n",
       "    </tr>\n",
       "    <tr>\n",
       "      <th>3</th>\n",
       "      <td>ORG</td>\n",
       "      <td>0.998730</td>\n",
       "      <td>California Public Utilities Commission</td>\n",
       "      <td>204</td>\n",
       "      <td>242</td>\n",
       "    </tr>\n",
       "    <tr>\n",
       "      <th>4</th>\n",
       "      <td>ORG</td>\n",
       "      <td>0.999142</td>\n",
       "      <td>CPUC</td>\n",
       "      <td>244</td>\n",
       "      <td>248</td>\n",
       "    </tr>\n",
       "    <tr>\n",
       "      <th>5</th>\n",
       "      <td>ORG</td>\n",
       "      <td>0.999292</td>\n",
       "      <td>CPUC</td>\n",
       "      <td>328</td>\n",
       "      <td>332</td>\n",
       "    </tr>\n",
       "    <tr>\n",
       "      <th>6</th>\n",
       "      <td>ORG</td>\n",
       "      <td>0.998436</td>\n",
       "      <td>CPUC</td>\n",
       "      <td>583</td>\n",
       "      <td>587</td>\n",
       "    </tr>\n",
       "    <tr>\n",
       "      <th>7</th>\n",
       "      <td>ORG</td>\n",
       "      <td>0.998916</td>\n",
       "      <td>San Francisco Municipal Transportation Agency</td>\n",
       "      <td>593</td>\n",
       "      <td>638</td>\n",
       "    </tr>\n",
       "    <tr>\n",
       "      <th>8</th>\n",
       "      <td>ORG</td>\n",
       "      <td>0.998987</td>\n",
       "      <td>SFMTA</td>\n",
       "      <td>640</td>\n",
       "      <td>645</td>\n",
       "    </tr>\n",
       "    <tr>\n",
       "      <th>9</th>\n",
       "      <td>ORG</td>\n",
       "      <td>0.998789</td>\n",
       "      <td>SFMTA</td>\n",
       "      <td>767</td>\n",
       "      <td>772</td>\n",
       "    </tr>\n",
       "    <tr>\n",
       "      <th>10</th>\n",
       "      <td>PER</td>\n",
       "      <td>0.999321</td>\n",
       "      <td>Stephen Chun</td>\n",
       "      <td>775</td>\n",
       "      <td>787</td>\n",
       "    </tr>\n",
       "  </tbody>\n",
       "</table>\n",
       "</div>"
      ],
      "text/plain": [
       "   entity_group     score                                           word  \\\n",
       "0           LOC  0.999465                                  San Francisco   \n",
       "1           ORG  0.997806                                         Cruise   \n",
       "2           ORG  0.996125                                          Waymo   \n",
       "3           ORG  0.998730         California Public Utilities Commission   \n",
       "4           ORG  0.999142                                           CPUC   \n",
       "5           ORG  0.999292                                           CPUC   \n",
       "6           ORG  0.998436                                           CPUC   \n",
       "7           ORG  0.998916  San Francisco Municipal Transportation Agency   \n",
       "8           ORG  0.998987                                          SFMTA   \n",
       "9           ORG  0.998789                                          SFMTA   \n",
       "10          PER  0.999321                                   Stephen Chun   \n",
       "\n",
       "    start  end  \n",
       "0       4   17  \n",
       "1      50   56  \n",
       "2      61   66  \n",
       "3     204  242  \n",
       "4     244  248  \n",
       "5     328  332  \n",
       "6     583  587  \n",
       "7     593  638  \n",
       "8     640  645  \n",
       "9     767  772  \n",
       "10    775  787  "
      ]
     },
     "execution_count": 9,
     "metadata": {},
     "output_type": "execute_result"
    }
   ],
   "source": [
    "ner_tagger = pipeline(\"ner\", aggregation_strategy=\"simple\")\n",
    "outputs = ner_tagger(text)\n",
    "pd.DataFrame(outputs)"
   ]
  }
 ],
 "metadata": {
  "kernelspec": {
   "display_name": "Python 3 (ipykernel)",
   "language": "python",
   "name": "python3"
  },
  "language_info": {
   "codemirror_mode": {
    "name": "ipython",
    "version": 3
   },
   "file_extension": ".py",
   "mimetype": "text/x-python",
   "name": "python",
   "nbconvert_exporter": "python",
   "pygments_lexer": "ipython3",
   "version": "3.10.12"
  }
 },
 "nbformat": 4,
 "nbformat_minor": 5
}
